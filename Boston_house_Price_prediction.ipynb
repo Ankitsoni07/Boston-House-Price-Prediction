{
 "cells": [
  {
   "cell_type": "code",
   "execution_count": 1,
   "id": "703a7c8a",
   "metadata": {
    "id": "703a7c8a"
   },
   "outputs": [],
   "source": [
    "import pandas as pd \n",
    "import numpy as np\n",
    "import matplotlib.pyplot as plt\n",
    "import seaborn as sns\n",
    "import sklearn\n",
    "%matplotlib inline"
   ]
  },
  {
   "cell_type": "code",
   "execution_count": 2,
   "id": "084da5f0",
   "metadata": {
    "id": "084da5f0"
   },
   "outputs": [
    {
     "ename": "ImportError",
     "evalue": "\n`load_boston` has been removed from scikit-learn since version 1.2.\n\nThe Boston housing prices dataset has an ethical problem: as\ninvestigated in [1], the authors of this dataset engineered a\nnon-invertible variable \"B\" assuming that racial self-segregation had a\npositive impact on house prices [2]. Furthermore the goal of the\nresearch that led to the creation of this dataset was to study the\nimpact of air quality but it did not give adequate demonstration of the\nvalidity of this assumption.\n\nThe scikit-learn maintainers therefore strongly discourage the use of\nthis dataset unless the purpose of the code is to study and educate\nabout ethical issues in data science and machine learning.\n\nIn this special case, you can fetch the dataset from the original\nsource::\n\n    import pandas as pd\n    import numpy as np\n\n    data_url = \"http://lib.stat.cmu.edu/datasets/boston\"\n    raw_df = pd.read_csv(data_url, sep=\"\\s+\", skiprows=22, header=None)\n    data = np.hstack([raw_df.values[::2, :], raw_df.values[1::2, :2]])\n    target = raw_df.values[1::2, 2]\n\nAlternative datasets include the California housing dataset and the\nAmes housing dataset. You can load the datasets as follows::\n\n    from sklearn.datasets import fetch_california_housing\n    housing = fetch_california_housing()\n\nfor the California housing dataset and::\n\n    from sklearn.datasets import fetch_openml\n    housing = fetch_openml(name=\"house_prices\", as_frame=True)\n\nfor the Ames housing dataset.\n\n[1] M Carlisle.\n\"Racist data destruction?\"\n<https://medium.com/@docintangible/racist-data-destruction-113e3eff54a8>\n\n[2] Harrison Jr, David, and Daniel L. Rubinfeld.\n\"Hedonic housing prices and the demand for clean air.\"\nJournal of environmental economics and management 5.1 (1978): 81-102.\n<https://www.researchgate.net/publication/4974606_Hedonic_housing_prices_and_the_demand_for_clean_air>\n",
     "output_type": "error",
     "traceback": [
      "\u001b[1;31m---------------------------------------------------------------------------\u001b[0m",
      "\u001b[1;31mImportError\u001b[0m                               Traceback (most recent call last)",
      "Cell \u001b[1;32mIn[2], line 1\u001b[0m\n\u001b[1;32m----> 1\u001b[0m \u001b[39mfrom\u001b[39;00m \u001b[39msklearn\u001b[39;00m\u001b[39m.\u001b[39;00m\u001b[39mdatasets\u001b[39;00m \u001b[39mimport\u001b[39;00m load_boston\n",
      "File \u001b[1;32me:\\Personal Files\\Git Repositories\\Boston-House-Price-Prediction\\venv\\Lib\\site-packages\\sklearn\\datasets\\__init__.py:156\u001b[0m, in \u001b[0;36m__getattr__\u001b[1;34m(name)\u001b[0m\n\u001b[0;32m    105\u001b[0m \u001b[39mif\u001b[39;00m name \u001b[39m==\u001b[39m \u001b[39m\"\u001b[39m\u001b[39mload_boston\u001b[39m\u001b[39m\"\u001b[39m:\n\u001b[0;32m    106\u001b[0m     msg \u001b[39m=\u001b[39m textwrap\u001b[39m.\u001b[39mdedent(\n\u001b[0;32m    107\u001b[0m \u001b[39m        \u001b[39m\u001b[39m\"\"\"\u001b[39;00m\n\u001b[0;32m    108\u001b[0m \u001b[39m        `load_boston` has been removed from scikit-learn since version 1.2.\u001b[39;00m\n\u001b[1;32m   (...)\u001b[0m\n\u001b[0;32m    154\u001b[0m \u001b[39m        \"\"\"\u001b[39;00m\n\u001b[0;32m    155\u001b[0m     )\n\u001b[1;32m--> 156\u001b[0m     \u001b[39mraise\u001b[39;00m \u001b[39mImportError\u001b[39;00m(msg)\n\u001b[0;32m    157\u001b[0m \u001b[39mtry\u001b[39;00m:\n\u001b[0;32m    158\u001b[0m     \u001b[39mreturn\u001b[39;00m \u001b[39mglobals\u001b[39m()[name]\n",
      "\u001b[1;31mImportError\u001b[0m: \n`load_boston` has been removed from scikit-learn since version 1.2.\n\nThe Boston housing prices dataset has an ethical problem: as\ninvestigated in [1], the authors of this dataset engineered a\nnon-invertible variable \"B\" assuming that racial self-segregation had a\npositive impact on house prices [2]. Furthermore the goal of the\nresearch that led to the creation of this dataset was to study the\nimpact of air quality but it did not give adequate demonstration of the\nvalidity of this assumption.\n\nThe scikit-learn maintainers therefore strongly discourage the use of\nthis dataset unless the purpose of the code is to study and educate\nabout ethical issues in data science and machine learning.\n\nIn this special case, you can fetch the dataset from the original\nsource::\n\n    import pandas as pd\n    import numpy as np\n\n    data_url = \"http://lib.stat.cmu.edu/datasets/boston\"\n    raw_df = pd.read_csv(data_url, sep=\"\\s+\", skiprows=22, header=None)\n    data = np.hstack([raw_df.values[::2, :], raw_df.values[1::2, :2]])\n    target = raw_df.values[1::2, 2]\n\nAlternative datasets include the California housing dataset and the\nAmes housing dataset. You can load the datasets as follows::\n\n    from sklearn.datasets import fetch_california_housing\n    housing = fetch_california_housing()\n\nfor the California housing dataset and::\n\n    from sklearn.datasets import fetch_openml\n    housing = fetch_openml(name=\"house_prices\", as_frame=True)\n\nfor the Ames housing dataset.\n\n[1] M Carlisle.\n\"Racist data destruction?\"\n<https://medium.com/@docintangible/racist-data-destruction-113e3eff54a8>\n\n[2] Harrison Jr, David, and Daniel L. Rubinfeld.\n\"Hedonic housing prices and the demand for clean air.\"\nJournal of environmental economics and management 5.1 (1978): 81-102.\n<https://www.researchgate.net/publication/4974606_Hedonic_housing_prices_and_the_demand_for_clean_air>\n"
     ]
    }
   ],
   "source": [
    "from sklearn.datasets import load_boston"
   ]
  },
  {
   "cell_type": "code",
   "execution_count": null,
   "id": "141db066",
   "metadata": {
    "colab": {
     "base_uri": "https://localhost:8080/"
    },
    "id": "141db066",
    "outputId": "6df396f5-cc4d-4935-de69-51a4a230c48d"
   },
   "outputs": [],
   "source": [
    "boston = load_boston()"
   ]
  },
  {
   "cell_type": "code",
   "execution_count": null,
   "id": "f07284a1",
   "metadata": {
    "colab": {
     "base_uri": "https://localhost:8080/"
    },
    "id": "f07284a1",
    "outputId": "753c2a40-ba7a-4467-def4-0379ddfc7b73"
   },
   "outputs": [],
   "source": [
    "boston.keys()"
   ]
  },
  {
   "cell_type": "code",
   "execution_count": null,
   "id": "fe94ea5f",
   "metadata": {
    "colab": {
     "base_uri": "https://localhost:8080/"
    },
    "id": "fe94ea5f",
    "outputId": "d8ae7fb3-aa3a-452c-aaab-6dbc5498c6e4"
   },
   "outputs": [],
   "source": [
    "# Description of the boston dataset\n",
    "print(boston.DESCR)"
   ]
  },
  {
   "cell_type": "markdown",
   "id": "7ce62eb2",
   "metadata": {
    "id": "7ce62eb2"
   },
   "source": [
    "## Preparing the Dataset"
   ]
  },
  {
   "cell_type": "code",
   "execution_count": null,
   "id": "251a9bf1",
   "metadata": {
    "id": "251a9bf1"
   },
   "outputs": [],
   "source": [
    "df = pd.DataFrame(boston.data, columns = boston.feature_names)"
   ]
  },
  {
   "cell_type": "code",
   "execution_count": null,
   "id": "467c513f",
   "metadata": {
    "colab": {
     "base_uri": "https://localhost:8080/",
     "height": 363
    },
    "id": "467c513f",
    "outputId": "3bdee4bb-f155-420f-e8d3-41df34c18cf4"
   },
   "outputs": [],
   "source": [
    "df.sample(10)"
   ]
  },
  {
   "cell_type": "code",
   "execution_count": null,
   "id": "c83f6ac5",
   "metadata": {
    "id": "c83f6ac5"
   },
   "outputs": [],
   "source": [
    "df['Price'] = boston.target"
   ]
  },
  {
   "cell_type": "code",
   "execution_count": null,
   "id": "2e15b4ec",
   "metadata": {
    "colab": {
     "base_uri": "https://localhost:8080/",
     "height": 206
    },
    "id": "2e15b4ec",
    "outputId": "abec65e9-ecf1-4a85-d8a8-d62cef2f3828"
   },
   "outputs": [],
   "source": [
    "df.sample(5)"
   ]
  },
  {
   "cell_type": "code",
   "execution_count": null,
   "id": "a20ab74f",
   "metadata": {
    "colab": {
     "base_uri": "https://localhost:8080/"
    },
    "id": "a20ab74f",
    "outputId": "b49eb7d5-f151-41e5-e408-369a86706509"
   },
   "outputs": [],
   "source": [
    "df.info()\n",
    "# Since there is no null values we are not handling it right now"
   ]
  },
  {
   "cell_type": "code",
   "execution_count": null,
   "id": "db96735b",
   "metadata": {
    "colab": {
     "base_uri": "https://localhost:8080/",
     "height": 364
    },
    "id": "db96735b",
    "outputId": "d5247070-cd40-43a4-f5bd-a0c31e777d5a"
   },
   "outputs": [],
   "source": [
    "## Summarizing the stats of the dataset\n",
    "df.describe()"
   ]
  },
  {
   "cell_type": "code",
   "execution_count": null,
   "id": "fce3c585",
   "metadata": {
    "colab": {
     "base_uri": "https://localhost:8080/"
    },
    "id": "fce3c585",
    "outputId": "e42b337a-cd4f-4c91-90a5-04877a50f3ab"
   },
   "outputs": [],
   "source": [
    "## Check the missing values\n",
    "df.isnull().sum()"
   ]
  },
  {
   "cell_type": "markdown",
   "id": "bee0b1f1",
   "metadata": {
    "id": "bee0b1f1"
   },
   "source": [
    "## Exploratory Data Analysis"
   ]
  },
  {
   "cell_type": "code",
   "execution_count": null,
   "id": "7de0cc84",
   "metadata": {
    "colab": {
     "base_uri": "https://localhost:8080/",
     "height": 552
    },
    "id": "7de0cc84",
    "outputId": "47e32cc4-8c08-4cdc-ad31-ba9b1e7ee232"
   },
   "outputs": [],
   "source": [
    "## Correlation\n",
    "df.corr()"
   ]
  },
  {
   "cell_type": "code",
   "execution_count": null,
   "id": "da57138a",
   "metadata": {
    "id": "da57138a",
    "scrolled": true
   },
   "outputs": [],
   "source": [
    "# sns.pairplot(dataset)"
   ]
  },
  {
   "cell_type": "code",
   "execution_count": null,
   "id": "0dc54028",
   "metadata": {
    "colab": {
     "base_uri": "https://localhost:8080/",
     "height": 296
    },
    "id": "0dc54028",
    "outputId": "27ad864c-e0d4-4ffa-8b99-e8b773be9271"
   },
   "outputs": [],
   "source": [
    "plt.scatter(df['CRIM'], df['Price'])\n",
    "plt.xlabel(\"Crime Rate\")\n",
    "plt.ylabel(\"House Price\")"
   ]
  },
  {
   "cell_type": "code",
   "execution_count": null,
   "id": "650d3f61",
   "metadata": {
    "colab": {
     "base_uri": "https://localhost:8080/",
     "height": 296
    },
    "id": "650d3f61",
    "outputId": "ee293445-99b2-45a7-e6cb-b2ce6a2a92ed"
   },
   "outputs": [],
   "source": [
    "plt.scatter(df['RM'], df['Price'])\n",
    "plt.xlabel(\"Average No. of Rooms\")\n",
    "plt.ylabel(\"House Price\")"
   ]
  },
  {
   "cell_type": "code",
   "execution_count": null,
   "id": "7713aafb",
   "metadata": {
    "colab": {
     "base_uri": "https://localhost:8080/",
     "height": 296
    },
    "id": "7713aafb",
    "outputId": "08976ece-39b6-4056-bf06-3e1563e62f07"
   },
   "outputs": [],
   "source": [
    "sns.regplot(x = \"RM\", y = \"Price\", data = df)"
   ]
  },
  {
   "cell_type": "code",
   "execution_count": null,
   "id": "7be22a84",
   "metadata": {
    "colab": {
     "base_uri": "https://localhost:8080/",
     "height": 296
    },
    "id": "7be22a84",
    "outputId": "d9ed9223-95dd-4be3-9185-476794d229d6"
   },
   "outputs": [],
   "source": [
    "sns.regplot(x = \"LSTAT\", y = \"Price\", data = df)"
   ]
  },
  {
   "cell_type": "code",
   "execution_count": null,
   "id": "79e6c445",
   "metadata": {
    "id": "79e6c445"
   },
   "outputs": [],
   "source": [
    "## Independent and dependen features\n",
    "\n",
    "X = df.iloc[:, :-1]\n",
    "y = df.iloc[:, -1]"
   ]
  },
  {
   "cell_type": "code",
   "execution_count": null,
   "id": "f827b111",
   "metadata": {
    "colab": {
     "base_uri": "https://localhost:8080/",
     "height": 423
    },
    "id": "f827b111",
    "outputId": "bd59548d-21f9-44f8-d234-af61e5ccee2e"
   },
   "outputs": [],
   "source": [
    "X"
   ]
  },
  {
   "cell_type": "code",
   "execution_count": null,
   "id": "e2a197e3",
   "metadata": {
    "colab": {
     "base_uri": "https://localhost:8080/"
    },
    "id": "e2a197e3",
    "outputId": "b7920c95-82a2-49ee-ee60-3ee3abb66a4e"
   },
   "outputs": [],
   "source": [
    "y"
   ]
  },
  {
   "cell_type": "code",
   "execution_count": null,
   "id": "b03c3770",
   "metadata": {
    "id": "b03c3770"
   },
   "outputs": [],
   "source": [
    "from sklearn.model_selection import train_test_split\n",
    "X_train, X_test, y_train, y_test = train_test_split(X, y, test_size = 0.3, random_state = 42)"
   ]
  },
  {
   "cell_type": "code",
   "execution_count": null,
   "id": "b77b317f",
   "metadata": {
    "colab": {
     "base_uri": "https://localhost:8080/",
     "height": 423
    },
    "id": "b77b317f",
    "outputId": "1db1b9bb-ec40-47c6-d8ed-21864d4f9254"
   },
   "outputs": [],
   "source": [
    "X_train"
   ]
  },
  {
   "cell_type": "code",
   "execution_count": null,
   "id": "2e6af98e",
   "metadata": {
    "id": "2e6af98e"
   },
   "outputs": [],
   "source": [
    "# We are using the gradient descent algorithm internally and for it to converge faster we need the data to be on the same scale\n",
    "## Standardizing the dataset\n",
    "from sklearn.preprocessing import StandardScaler\n",
    "scaler = StandardScaler()\n",
    "X_train = scaler.fit_transform(X_train)\n",
    "X_test = scaler.transform(X_test)"
   ]
  },
  {
   "cell_type": "code",
   "execution_count": null,
   "id": "a161dc44",
   "metadata": {},
   "outputs": [],
   "source": [
    "import pickle\n",
    "pickle.dump(scaler, open('scaling.pkl', 'wb'))"
   ]
  },
  {
   "cell_type": "code",
   "execution_count": null,
   "id": "069a40a9",
   "metadata": {
    "id": "069a40a9"
   },
   "outputs": [],
   "source": [
    "from sklearn.linear_model import LinearRegression"
   ]
  },
  {
   "cell_type": "code",
   "execution_count": null,
   "id": "a9460b70",
   "metadata": {
    "id": "a9460b70"
   },
   "outputs": [],
   "source": [
    "regression = LinearRegression()"
   ]
  },
  {
   "cell_type": "code",
   "execution_count": null,
   "id": "c26a05f0",
   "metadata": {
    "colab": {
     "base_uri": "https://localhost:8080/"
    },
    "id": "c26a05f0",
    "outputId": "e4fe89d7-2319-436b-a761-3ae47b12a235"
   },
   "outputs": [],
   "source": [
    "regression.fit(X_train, y_train)"
   ]
  },
  {
   "cell_type": "code",
   "execution_count": null,
   "id": "3b067d96",
   "metadata": {
    "colab": {
     "base_uri": "https://localhost:8080/"
    },
    "id": "3b067d96",
    "outputId": "5e974710-ab16-4be2-842d-c43a3908dfc7"
   },
   "outputs": [],
   "source": [
    "## printing the coefficient and the intercept\n",
    "print(regression.coef_)"
   ]
  },
  {
   "cell_type": "code",
   "execution_count": null,
   "id": "b48ae310",
   "metadata": {
    "colab": {
     "base_uri": "https://localhost:8080/"
    },
    "id": "b48ae310",
    "outputId": "70e9fbf7-d650-422e-fa47-0515b72ae295"
   },
   "outputs": [],
   "source": [
    "print(regression.intercept_)"
   ]
  },
  {
   "cell_type": "code",
   "execution_count": null,
   "id": "1579e2d9",
   "metadata": {
    "colab": {
     "base_uri": "https://localhost:8080/"
    },
    "id": "1579e2d9",
    "outputId": "ecea58e3-6914-43a7-8a48-79734134689e"
   },
   "outputs": [],
   "source": [
    "## on which parameter the model has been trained \n",
    "regression.get_params()"
   ]
  },
  {
   "cell_type": "code",
   "execution_count": null,
   "id": "f6af3b98",
   "metadata": {
    "id": "f6af3b98"
   },
   "outputs": [],
   "source": [
    "reg_pred = regression.predict(X_test)"
   ]
  },
  {
   "cell_type": "code",
   "execution_count": null,
   "id": "57ab7976",
   "metadata": {
    "colab": {
     "base_uri": "https://localhost:8080/",
     "height": 282
    },
    "id": "57ab7976",
    "outputId": "22ff0f33-38b8-4d43-b393-805dc5b0f015"
   },
   "outputs": [],
   "source": [
    "## Plot a scatter plot for the prediction\n",
    "plt.scatter(reg_pred, y_test)"
   ]
  },
  {
   "cell_type": "code",
   "execution_count": null,
   "id": "dc8bb431",
   "metadata": {
    "id": "dc8bb431"
   },
   "outputs": [],
   "source": [
    "## Calculating the errors (Residuals)\n",
    "residuals = y_test - reg_pred"
   ]
  },
  {
   "cell_type": "code",
   "execution_count": null,
   "id": "0b9511b0",
   "metadata": {
    "colab": {
     "base_uri": "https://localhost:8080/",
     "height": 386
    },
    "id": "0b9511b0",
    "outputId": "4bc00fe4-d79b-4327-d233-95399bddb8eb"
   },
   "outputs": [],
   "source": [
    "## Plot this residuals\n",
    "sns.displot(residuals, kind = 'kde')"
   ]
  },
  {
   "cell_type": "code",
   "execution_count": null,
   "id": "16d9ad81",
   "metadata": {
    "id": "16d9ad81"
   },
   "outputs": [],
   "source": [
    "## Since the above plot in not normally distributed we can tell that there are some outliers in our model "
   ]
  },
  {
   "cell_type": "code",
   "execution_count": null,
   "id": "e58b79a3",
   "metadata": {
    "colab": {
     "base_uri": "https://localhost:8080/"
    },
    "id": "e58b79a3",
    "outputId": "92601757-21be-4326-fc44-6f855ec08a1d"
   },
   "outputs": [],
   "source": [
    "from sklearn.metrics import mean_squared_error\n",
    "from sklearn.metrics import mean_absolute_error\n",
    "\n",
    "print(\"Mean Absolute Error =\", mean_absolute_error(y_test, reg_pred))\n",
    "print(\"Mean Squared Error =\", mean_squared_error(y_test, reg_pred))\n",
    "print(\"Root Mean Squared Error =\", np.sqrt(mean_squared_error(y_test, reg_pred)))"
   ]
  },
  {
   "cell_type": "markdown",
   "id": "CLn0zbdZZxCQ",
   "metadata": {
    "id": "CLn0zbdZZxCQ"
   },
   "source": [
    "## R Squared and Adjusted R Squared"
   ]
  },
  {
   "cell_type": "code",
   "execution_count": null,
   "id": "50260d88",
   "metadata": {
    "colab": {
     "base_uri": "https://localhost:8080/"
    },
    "id": "50260d88",
    "outputId": "c99b7a61-08e8-45f3-a37c-e1ea4621effb"
   },
   "outputs": [],
   "source": [
    "from sklearn.metrics import r2_score\n",
    "score = r2_score(y_test, reg_pred)\n",
    "print(score)"
   ]
  },
  {
   "cell_type": "code",
   "execution_count": null,
   "id": "xjcz1izpZvxu",
   "metadata": {
    "colab": {
     "base_uri": "https://localhost:8080/"
    },
    "id": "xjcz1izpZvxu",
    "outputId": "1a3521d8-f906-4177-9f17-7c6a69a55a55"
   },
   "outputs": [],
   "source": [
    "# display adjusted R-squared\n",
    "1 - (1-score)*(len(y_test)-1)/(len(y_test)-X_test.shape[1] - 1)"
   ]
  },
  {
   "cell_type": "markdown",
   "id": "mqOOhkYSbF1q",
   "metadata": {
    "id": "mqOOhkYSbF1q"
   },
   "source": [
    "## New Data Prediction"
   ]
  },
  {
   "cell_type": "code",
   "execution_count": null,
   "id": "4c691f8d",
   "metadata": {
    "colab": {
     "base_uri": "https://localhost:8080/"
    },
    "id": "4c691f8d",
    "outputId": "c5d2acb0-110c-416b-94f0-704ad52792dd"
   },
   "outputs": [],
   "source": [
    "boston.data[0].reshape(1, -1)"
   ]
  },
  {
   "cell_type": "code",
   "execution_count": null,
   "id": "386d5bbf",
   "metadata": {
    "colab": {
     "base_uri": "https://localhost:8080/"
    },
    "id": "386d5bbf",
    "outputId": "0cd2a844-4d24-4632-8dee-66457bd6b134"
   },
   "outputs": [],
   "source": [
    "## Transformation of new data \n",
    "scaler.transform(boston.data[0].reshape(1, -1))"
   ]
  },
  {
   "cell_type": "code",
   "execution_count": null,
   "id": "c4a8a107",
   "metadata": {
    "colab": {
     "base_uri": "https://localhost:8080/"
    },
    "id": "c4a8a107",
    "outputId": "2afc16b6-6300-4668-b8ea-29b5d2c47fbb"
   },
   "outputs": [],
   "source": [
    "regression.predict(scaler.transform(boston.data[0].reshape(1, -1)))"
   ]
  },
  {
   "cell_type": "markdown",
   "id": "HYZjOaGTj1Sw",
   "metadata": {
    "id": "HYZjOaGTj1Sw"
   },
   "source": [
    "## Pickeling the model"
   ]
  },
  {
   "cell_type": "code",
   "execution_count": null,
   "id": "USxOsKYlj0zn",
   "metadata": {
    "id": "USxOsKYlj0zn"
   },
   "outputs": [],
   "source": [
    "import pickle"
   ]
  },
  {
   "cell_type": "code",
   "execution_count": null,
   "id": "c11b483a",
   "metadata": {
    "id": "c11b483a"
   },
   "outputs": [],
   "source": [
    "pickle.dump(regression, open('regmodel.pkl', 'wb'))"
   ]
  },
  {
   "cell_type": "code",
   "execution_count": null,
   "id": "3fba0f40",
   "metadata": {
    "id": "3fba0f40"
   },
   "outputs": [],
   "source": [
    "pickle_model = pickle.load(open('regmodel.pkl', 'rb'))"
   ]
  },
  {
   "cell_type": "code",
   "execution_count": null,
   "id": "d2b8313b",
   "metadata": {
    "colab": {
     "base_uri": "https://localhost:8080/"
    },
    "id": "d2b8313b",
    "outputId": "595136c8-86a9-4462-b558-e8538282aef5"
   },
   "outputs": [],
   "source": [
    "pickle_model.predict(scaler.transform(boston.data[0].reshape(1, -1)))"
   ]
  },
  {
   "cell_type": "code",
   "execution_count": null,
   "id": "7a17c0c0",
   "metadata": {
    "id": "7a17c0c0"
   },
   "outputs": [],
   "source": []
  },
  {
   "cell_type": "code",
   "execution_count": null,
   "id": "7ce82f2f",
   "metadata": {
    "id": "7ce82f2f"
   },
   "outputs": [],
   "source": []
  },
  {
   "cell_type": "code",
   "execution_count": null,
   "id": "269f2b23",
   "metadata": {
    "id": "269f2b23"
   },
   "outputs": [],
   "source": []
  },
  {
   "cell_type": "code",
   "execution_count": null,
   "id": "da77fd61",
   "metadata": {
    "id": "da77fd61"
   },
   "outputs": [],
   "source": []
  },
  {
   "cell_type": "code",
   "execution_count": null,
   "id": "8ea6ab19",
   "metadata": {
    "id": "8ea6ab19"
   },
   "outputs": [],
   "source": []
  }
 ],
 "metadata": {
  "colab": {
   "provenance": []
  },
  "kernelspec": {
   "display_name": "Python 3 (ipykernel)",
   "language": "python",
   "name": "python3"
  },
  "language_info": {
   "codemirror_mode": {
    "name": "ipython",
    "version": 3
   },
   "file_extension": ".py",
   "mimetype": "text/x-python",
   "name": "python",
   "nbconvert_exporter": "python",
   "pygments_lexer": "ipython3",
   "version": "3.11.1"
  }
 },
 "nbformat": 4,
 "nbformat_minor": 5
}
